{
 "cells": [
  {
   "cell_type": "code",
   "execution_count": 1,
   "metadata": {},
   "outputs": [
    {
     "name": "stdout",
     "output_type": "stream",
     "text": [
      "✅ Now using your Jupyter folder!\n",
      "Current working directory: /Users/asungii/Documents/repos/STS3940/final-project\n"
     ]
    }
   ],
   "source": [
    "# Import the libraries we need\n",
    "from pathlib import Path  # This helps us work with file paths\n",
    "import os                # This lets us change directories\n",
    "\n",
    "def use_jupyter_folder():\n",
    "    # Get the path to the Jupyter folder\n",
    "    jupyter_folder = Path.home() / 'Documents' / 'repos' / 'STS3940' / 'final-project'\n",
    "    \n",
    "    # Try to change to that directory\n",
    "    if jupyter_folder.exists():\n",
    "        os.chdir(jupyter_folder)\n",
    "        print(f\"✅ Now using your Jupyter folder!\")\n",
    "        print(f\"Current working directory: {Path.cwd()}\")\n",
    "    else:\n",
    "        print(\"❌ Couldn't find the Jupyter folder in Documents.\")\n",
    "        print(\"Please make sure you've created it first.\")\n",
    "\n",
    "# Run this to switch to the Jupyter folder\n",
    "use_jupyter_folder()"
   ]
  },
  {
   "cell_type": "code",
   "execution_count": 2,
   "metadata": {},
   "outputs": [
    {
     "name": "stdout",
     "output_type": "stream",
     "text": [
      "Model set to: llama3:8b\n"
     ]
    }
   ],
   "source": [
    "# Set the model you want to use\n",
    "model = \"llama3:8b\"  # Change this to your model name, e.g. \"mistral\", \"codellama\", etc.\n",
    "print(\"Model set to:\", model)"
   ]
  },
  {
   "cell_type": "code",
   "execution_count": 4,
   "metadata": {},
   "outputs": [
    {
     "name": "stdout",
     "output_type": "stream",
     "text": [
      "Nice to meet you! I am LLaMA, an AI assistant developed by Meta AI that can understand and respond to human input in a conversational manner. I'm not a human, but a computer program designed to simulate conversation, answer questions, and even generate text or stories on my own.\n",
      "\n",
      "I was trained on a massive dataset of text from the internet and can generate human-like responses to a wide range of topics and questions. My training data includes a large corpus of text from various sources, including books, articles, and websites. This allows me to understand and respond to natural language inputs in a way that's similar to how humans communicate.\n",
      "\n",
      "I'm excited to chat with you and learn more about your interests! What would you like to talk about?\n"
     ]
    }
   ],
   "source": [
    "import ollama\n",
    "import requests\n",
    "\n",
    "# Setup\n",
    "model = \"llama3\"  # or any other Ollama-supported model\n",
    "base_url = \"http://localhost:11434/api/chat\"\n",
    "chat_history = []\n",
    "\n",
    "def chat_with_ollama(user_input):\n",
    "    chat_history.append({\"role\": \"user\", \"content\": user_input})\n",
    "    response = requests.post(\n",
    "        base_url,\n",
    "        json={\n",
    "            \"model\": model,\n",
    "            \"messages\": chat_history,\n",
    "            \"stream\": False  # Explicitly set streaming to false\n",
    "        }\n",
    "    )\n",
    "    \n",
    "    if response.status_code == 200:\n",
    "        try:\n",
    "            data = response.json()\n",
    "            reply = data[\"message\"][\"content\"]\n",
    "            chat_history.append({\"role\": \"assistant\", \"content\": reply})\n",
    "            return reply\n",
    "        except (KeyError, ValueError) as e:\n",
    "            print(f\"Error parsing response: {e}\")\n",
    "            print(f\"Response content: {response.text}\")\n",
    "            return \"Sorry, there was an error processing the response.\"\n",
    "    else:\n",
    "        print(f\"Error: Status code {response.status_code}\")\n",
    "        print(f\"Response: {response.text}\")\n",
    "        return \"Sorry, there was an error connecting to the model.\"\n",
    "\n",
    "# Example usage\n",
    "print(chat_with_ollama(\"Hello! Who are you?\"))"
   ]
  },
  {
   "cell_type": "code",
   "execution_count": null,
   "metadata": {},
   "outputs": [],
   "source": []
  }
 ],
 "metadata": {
  "kernelspec": {
   "display_name": "STS3940",
   "language": "python",
   "name": "python3"
  },
  "language_info": {
   "codemirror_mode": {
    "name": "ipython",
    "version": 3
   },
   "file_extension": ".py",
   "mimetype": "text/x-python",
   "name": "python",
   "nbconvert_exporter": "python",
   "pygments_lexer": "ipython3",
   "version": "3.12.0"
  }
 },
 "nbformat": 4,
 "nbformat_minor": 2
}
